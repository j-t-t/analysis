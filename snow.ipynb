{
 "cells": [
  {
   "cell_type": "code",
   "execution_count": 117,
   "metadata": {},
   "outputs": [
    {
     "name": "stderr",
     "output_type": "stream",
     "text": [
      "BokehDeprecationWarning: CARTODBPOSITRON was deprecated in Bokeh 1.1.0 and will be removed, use get_provider(Vendors.CARTODBPOSITRON) instead.\n"
     ]
    }
   ],
   "source": [
    "import pandas as pd\n",
    "import geopandas as gpd\n",
    "import bokeh\n",
    "from bokeh.tile_providers import CARTODBPOSITRON\n",
    "from bokeh.plotting import figure, show\n",
    "from shapely.geometry import Point\n",
    "from dateutil.parser import parse\n",
    "import matplotlib.pyplot as plt\n",
    "import requests\n",
    "from requests.exceptions import Timeout\n",
    "import json\n",
    "from collections import defaultdict\n",
    "\n",
    "\n",
    "# Read in csv (downloaded from Cambridge's Open Data Portal)\n",
    "df = pd.read_csv('seeclickfix.csv')"
   ]
  },
  {
   "cell_type": "code",
   "execution_count": 118,
   "metadata": {},
   "outputs": [
    {
     "name": "stdout",
     "output_type": "stream",
     "text": [
      "(2, 14)\n",
      "(2048, 14)\n"
     ]
    },
    {
     "data": {
      "text/plain": [
       "2048"
      ]
     },
     "execution_count": 118,
     "metadata": {},
     "output_type": "execute_result"
    }
   ],
   "source": [
    "# Get a list of all icy or unshoveled sidewalks created since 12/01/19\n",
    "df.head()\n",
    "snowy = df[df['issue_type'] == 'Icy or Unshoveled Sidewalk']\n",
    "\n",
    "# Turn into a geopandas dataframe\n",
    "geometry = [Point(xy) for xy in zip(snowy.lng, df.lat)]\n",
    "crs = {'init': 'epsg:4326'}\n",
    "gdf = gpd.GeoDataFrame(snowy, crs=crs, geometry=geometry)\n",
    "\n",
    "# Turn the created and closed dates into datetime objects\n",
    "gdf = gdf.assign(ticket_created_date_time=gdf['ticket_created_date_time'].map(lambda x: parse(x)))\n",
    "#gdf['ticket_closed_date_time'] = gdf['ticket_closed_date_time'].map(lambda x: parse(x))\n",
    "\n",
    "gdf = gdf[gdf['ticket_created_date_time'] > parse('12/1/2017')]\n",
    "gdf.head()\n",
    "\n",
    "still_open = gdf[gdf['ticket_closed_date_time'].isna()]\n",
    "closed = gdf[gdf['ticket_closed_date_time'].notna()]\n",
    "\n",
    "print(still_open.shape)\n",
    "print(closed.shape)\n",
    "#still_open.sha\n",
    "gdf.shape\n",
    "\n",
    "\n",
    "closed = closed.assign(ticket_closed_date_time=closed['ticket_closed_date_time'].map(lambda x: parse(x)))\n",
    "closed = closed.assign(days_open= closed['ticket_closed_date_time'] - closed['ticket_created_date_time'])\n",
    "\n",
    "#df.assign(temp_f=df['temp_c'] * 9 / 5 + 32)\n",
    "closed['days_open'] = closed['days_open'].apply(lambda x: pd.Timedelta.round(x, 'd').days)\n",
    "closed.head()\n",
    "\n",
    "#pd.Timedelta.round(closed.iloc[0]['days_open'], 'd')\n",
    "len(closed)"
   ]
  },
  {
   "cell_type": "code",
   "execution_count": 119,
   "metadata": {},
   "outputs": [
    {
     "data": {
      "text/plain": [
       "1936"
      ]
     },
     "execution_count": 119,
     "metadata": {},
     "output_type": "execute_result"
    }
   ],
   "source": [
    "# Read cached comment data\n",
    "with open('see_click_fix_comments.json') as json_file:\n",
    "    comments = json.load(json_file)\n",
    "\n",
    "# Remove all tickets with duplicate in the comments\n",
    "dupes = []\n",
    "comments[[x for x in comments.keys()][0]]\n",
    "for ticket_id, value in comments.items():\n",
    "    for item in value:\n",
    "        if 'duplicate' in item['comment']:\n",
    "            dupes.append(ticket_id)\n",
    "closed = closed[-closed['ticket_id'].isin(dupes)]\n",
    "len(closed)"
   ]
  },
  {
   "cell_type": "code",
   "execution_count": 129,
   "metadata": {},
   "outputs": [
    {
     "data": {
      "image/png": "[encoded data removed]",
      "text/plain": [
       "<Figure size 1008x576 with 1 Axes>"
      ]
     },
     "metadata": {
      "needs_background": "light"
     },
     "output_type": "display_data"
    }
   ],
   "source": [
    "# Bin longer tickets'\n",
    "closed.loc[closed.days_open >= 14, 'days_open'] = 14\n",
    "closed.loc[closed.days_open.isin(range(7, 14)), 'days_open'] = 7\n",
    "\n",
    "days_counts = closed['days_open'].value_counts().sort_index()\n",
    "\n",
    "# Relabel\n",
    "days_counts = days_counts.rename({14: '14+', 7: '7-13'})\n",
    "\n",
    "ax = days_counts.plot(kind='bar', rot=0,\n",
    "                                    figsize=(14,8),\n",
    "                                    title=\"Days Open\")"
   ]
  },
  {
   "cell_type": "code",
   "execution_count": null,
   "metadata": {},
   "outputs": [],
   "source": [
    "def get_resolution(ticket_id, closed_time):\n",
    "\n",
    "    for comment in comments[str(ticket_id)]:\n",
    "        dt = parse(comment['created_at'])\n",
    "        # Look for comments matching ticket closed time\n",
    "        if dt.strftime(\"%m/%d/%Y, %H:%M:%S\") == closed_time.strftime(\"%m/%d/%Y, %H:%M:%S\"):\n",
    "            if 'citation was issued' in comment['comment'] \\\n",
    "              or 'notice was issued' in comment['comment']:\n",
    "                return 'citation'\n",
    "            elif 'pleased' in comment['comment'] and 'resolved' in comment['comment']:\n",
    "                return 'resolved'\n",
    "            elif 'new snow operation' in comment['comment'] \\\n",
    "              or 'suspended during this snow event' in comment['comment'] \\\n",
    "              or 'anticipated snowfall' in comment['comment'] \\\n",
    "              or 'anticipation of another snow storm' in comment['comment']:\n",
    "                return 'new_snow'\n",
    "            # These should probably be filtered out of the total\n",
    "            elif 'we are still in an snow operation' in comment['comment'] \\\n",
    "              or '12 hours' in comment['comment'] \\\n",
    "              or 'City Ordinance' in comment['comment']:\n",
    "                return 'still_snowing'\n",
    "            elif 'large number of reports' in comment['comment'] and 'now in compliance' in comment['comment']:\n",
    "                return 'delayed_inspection'\n",
    "            elif 'we were unable to inspect this location' in comment['comment'] \\\n",
    "              or 'location has not been inspected' in comment['comment'] \\\n",
    "              or ('warm' in comment['comment'] and 'weather' in comment['comment']) \\\n",
    "              or ('warm' in comment['comment'] and 'temperature' in comment['comment']):\n",
    "                return 'no_inspection'\n",
    "            elif 'found to be in compliance' in comment['comment']:\n",
    "                return 'in_compliance'\n",
    "            elif 'state property' in comment['comment']:\n",
    "                return 'state_property'\n",
    "            elif 'duplicat' in comment['comment']:\n",
    "                return 'duplicate'\n",
    "            elif 'Somerville' in comment['comment']:\n",
    "                return 'somerville'\n",
    "            elif 'MBTA' in comment['comment']:\n",
    "                return 'mbta'\n",
    "            elif 'city of cambridge will' in comment['comment'].lower() \\\n",
    "              or 'city will' in comment['comment'].lower() \\\n",
    "              or 'will try and clear as soon as possible' in comment['comment'] \\\n",
    "              or 'city pile' in comment['comment'].lower():\n",
    "                return 'city_will_address'\n",
    "            else:\n",
    "                #print(str(ticket_id) + \",\" + comment['comment'])\n",
    "                return 'other'\n",
    "        print(comments[str(ticket_id)])    \n",
    "\n",
    "resolutions = defaultdict(int)\n",
    "closed = closed.assign(resolution=None)\n",
    "other_comments = []\n",
    "for index, row in closed.iterrows():\n",
    "    resolution = get_resolution(row['ticket_id'], row['ticket_closed_date_time'])\n",
    "    resolutions[resolution] += 1\n",
    "    closed.at[index,'resolution'] = resolution\n",
    "    if resolution == 'other':\n",
    "        other_comments.append(comments[str(row['ticket_id'])])\n",
    "\n",
    "print(resolutions)\n",
    "closed.head()"
   ]
  },
  {
   "cell_type": "code",
   "execution_count": null,
   "metadata": {},
   "outputs": [],
   "source": [
    "# Print some comments for the unassigned versions\n",
    "other_resolution = closed[closed['resolution'] == 'other']\n",
    "other_resolution.head()"
   ]
  },
  {
   "cell_type": "code",
   "execution_count": null,
   "metadata": {},
   "outputs": [],
   "source": [
    "# To do: filter on role: \"Verified Official\""
   ]
  },
  {
   "cell_type": "code",
   "execution_count": null,
   "metadata": {},
   "outputs": [],
   "source": [
    "p = figure(x_range=(-7919969.67, -7911590.87), y_range=(5221575.24, 5214113.74), x_axis_type=\"mercator\", y_axis_type=\"mercator\")\n",
    "p.add_tile(CARTODBPOSITRON)\n",
    "show(p)\n",
    "\n",
    "#coords = [[-9759284.802320646, -9759781.18], [5139718.458609748, 5162158.11]]    \n",
    "#p.line(x=coords[0], y=coords[1])"
   ]
  }
 ],
 "metadata": {
  "kernelspec": {
   "display_name": "Python 3",
   "language": "python",
   "name": "python3"
  },
  "language_info": {
   "codemirror_mode": {
    "name": "ipython",
    "version": 3
   },
   "file_extension": ".py",
   "mimetype": "text/x-python",
   "name": "python",
   "nbconvert_exporter": "python",
   "pygments_lexer": "ipython3",
   "version": "3.6.7"
  }
 },
 "nbformat": 4,
 "nbformat_minor": 2
}
