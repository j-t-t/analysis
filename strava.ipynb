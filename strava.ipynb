{
 "cells": [
  {
   "cell_type": "code",
   "execution_count": 52,
   "metadata": {},
   "outputs": [],
   "source": [
    "import fiona\n",
    "import rtree\n",
    "from pyproj import transformer\n",
    "import geopandas\n",
    "import pandas\n",
    "from shapely.geometry import LineString\n",
    "\n",
    "from bokeh.plotting import figure, output_file, show\n",
    "from bokeh.tile_providers import CARTODBPOSITRON, get_provider\n",
    "from bokeh.models import ColumnDataSource"
   ]
  },
  {
   "cell_type": "code",
   "execution_count": 53,
   "metadata": {},
   "outputs": [],
   "source": [
    "# Read in a single strava file. Add functionality for multiple rides later\n",
    "strava = geopandas.read_file('/home/jenny/Downloads/Afternoon_Ride2.gpx', layer='tracks')\n",
    "strava = strava.to_crs(\"EPSG:3857\")"
   ]
  },
  {
   "cell_type": "code",
   "execution_count": 54,
   "metadata": {},
   "outputs": [
    {
     "name": "stdout",
     "output_type": "stream",
     "text": [
      "2729\n",
      "2730\n"
     ]
    },
    {
     "data": {
      "text/html": [
       "<div>\n",
       "<style scoped>\n",
       "    .dataframe tbody tr th:only-of-type {\n",
       "        vertical-align: middle;\n",
       "    }\n",
       "\n",
       "    .dataframe tbody tr th {\n",
       "        vertical-align: top;\n",
       "    }\n",
       "\n",
       "    .dataframe thead th {\n",
       "        text-align: right;\n",
       "    }\n",
       "</style>\n",
       "<table border=\"1\" class=\"dataframe\">\n",
       "  <thead>\n",
       "    <tr style=\"text-align: right;\">\n",
       "      <th></th>\n",
       "      <th>col1</th>\n",
       "      <th>geometry</th>\n",
       "    </tr>\n",
       "  </thead>\n",
       "  <tbody>\n",
       "    <tr>\n",
       "      <th>0</th>\n",
       "      <td>0</td>\n",
       "      <td>LINESTRING (-7916643.327 5218814.881, -7916639...</td>\n",
       "    </tr>\n",
       "    <tr>\n",
       "      <th>1</th>\n",
       "      <td>1</td>\n",
       "      <td>LINESTRING (-7916639.988 5218816.840, -7916636...</td>\n",
       "    </tr>\n",
       "    <tr>\n",
       "      <th>2</th>\n",
       "      <td>2</td>\n",
       "      <td>LINESTRING (-7916636.537 5218818.800, -7916633...</td>\n",
       "    </tr>\n",
       "    <tr>\n",
       "      <th>3</th>\n",
       "      <td>3</td>\n",
       "      <td>LINESTRING (-7916633.197 5218820.910, -7916629...</td>\n",
       "    </tr>\n",
       "    <tr>\n",
       "      <th>4</th>\n",
       "      <td>4</td>\n",
       "      <td>LINESTRING (-7916629.747 5218822.869, -7916626...</td>\n",
       "    </tr>\n",
       "  </tbody>\n",
       "</table>\n",
       "</div>"
      ],
      "text/plain": [
       "   col1                                           geometry\n",
       "0     0  LINESTRING (-7916643.327 5218814.881, -7916639...\n",
       "1     1  LINESTRING (-7916639.988 5218816.840, -7916636...\n",
       "2     2  LINESTRING (-7916636.537 5218818.800, -7916633...\n",
       "3     3  LINESTRING (-7916633.197 5218820.910, -7916629...\n",
       "4     4  LINESTRING (-7916629.747 5218822.869, -7916626..."
      ]
     },
     "execution_count": 54,
     "metadata": {},
     "output_type": "execute_result"
    }
   ],
   "source": [
    "# Turn the strava MultiLineString into short LineStrings\n",
    "for x in strava['geometry'].iloc[0]:\n",
    "    coords = [y for y in x.coords]\n",
    "    lines = []\n",
    "    for i in range(len(coords)-1):\n",
    "        lines.append(LineString([coords[i], coords[i+1]]))\n",
    "\n",
    "d = {'col1': range(len(lines)), 'geometry': lines}\n",
    "strava_gdf = geopandas.GeoDataFrame(d, crs=\"EPSG:3857\")\n"
   ]
  },
  {
   "cell_type": "code",
   "execution_count": 57,
   "metadata": {},
   "outputs": [],
   "source": [
    "# Read in the map for the city\n",
    "import osmnx as ox\n",
    "#ox.geocode_to_gdf\n",
    "\n",
    "G = ox.graph_from_place('Cambridge, MA USA', network_type='drive', simplify=True)\n",
    "\n",
    "# Turn into a gdf in epgs 3857\n",
    "nodes, ways = ox.utils_graph.graph_to_gdfs(G)\n",
    "ways = ways.to_crs(\"EPSG:3857\") \n"
   ]
  },
  {
   "cell_type": "code",
   "execution_count": 63,
   "metadata": {},
   "outputs": [
    {
     "data": {
      "text/html": [
       "<div style=\"display: table;\"><div style=\"display: table-row;\"><div style=\"display: table-cell;\"><b title=\"bokeh.models.renderers.TileRenderer\">TileRenderer</b>(</div><div style=\"display: table-cell;\">id&nbsp;=&nbsp;'68280', <span id=\"68283\" style=\"cursor: pointer;\">&hellip;)</span></div></div><div class=\"68282\" style=\"display: none;\"><div style=\"display: table-cell;\"></div><div style=\"display: table-cell;\">alpha&nbsp;=&nbsp;1.0,</div></div><div class=\"68282\" style=\"display: none;\"><div style=\"display: table-cell;\"></div><div style=\"display: table-cell;\">js_event_callbacks&nbsp;=&nbsp;{},</div></div><div class=\"68282\" style=\"display: none;\"><div style=\"display: table-cell;\"></div><div style=\"display: table-cell;\">js_property_callbacks&nbsp;=&nbsp;{},</div></div><div class=\"68282\" style=\"display: none;\"><div style=\"display: table-cell;\"></div><div style=\"display: table-cell;\">level&nbsp;=&nbsp;'glyph',</div></div><div class=\"68282\" style=\"display: none;\"><div style=\"display: table-cell;\"></div><div style=\"display: table-cell;\">name&nbsp;=&nbsp;None,</div></div><div class=\"68282\" style=\"display: none;\"><div style=\"display: table-cell;\"></div><div style=\"display: table-cell;\">render_parents&nbsp;=&nbsp;True,</div></div><div class=\"68282\" style=\"display: none;\"><div style=\"display: table-cell;\"></div><div style=\"display: table-cell;\">smoothing&nbsp;=&nbsp;True,</div></div><div class=\"68282\" style=\"display: none;\"><div style=\"display: table-cell;\"></div><div style=\"display: table-cell;\">subscribed_events&nbsp;=&nbsp;[],</div></div><div class=\"68282\" style=\"display: none;\"><div style=\"display: table-cell;\"></div><div style=\"display: table-cell;\">tags&nbsp;=&nbsp;[],</div></div><div class=\"68282\" style=\"display: none;\"><div style=\"display: table-cell;\"></div><div style=\"display: table-cell;\">tile_source&nbsp;=&nbsp;WMTSTileSource(id='68248', ...),</div></div><div class=\"68282\" style=\"display: none;\"><div style=\"display: table-cell;\"></div><div style=\"display: table-cell;\">visible&nbsp;=&nbsp;True,</div></div><div class=\"68282\" style=\"display: none;\"><div style=\"display: table-cell;\"></div><div style=\"display: table-cell;\">x_range_name&nbsp;=&nbsp;'default',</div></div><div class=\"68282\" style=\"display: none;\"><div style=\"display: table-cell;\"></div><div style=\"display: table-cell;\">y_range_name&nbsp;=&nbsp;'default')</div></div></div>\n",
       "<script>\n",
       "(function() {\n",
       "  var expanded = false;\n",
       "  var ellipsis = document.getElementById(\"68283\");\n",
       "  ellipsis.addEventListener(\"click\", function() {\n",
       "    var rows = document.getElementsByClassName(\"68282\");\n",
       "    for (var i = 0; i < rows.length; i++) {\n",
       "      var el = rows[i];\n",
       "      el.style.display = expanded ? \"none\" : \"table-row\";\n",
       "    }\n",
       "    ellipsis.innerHTML = expanded ? \"&hellip;)\" : \"&lsaquo;&lsaquo;&lsaquo;\";\n",
       "    expanded = !expanded;\n",
       "  });\n",
       "})();\n",
       "</script>\n"
      ],
      "text/plain": [
       "TileRenderer(id='68280', ...)"
      ]
     },
     "execution_count": 63,
     "metadata": {},
     "output_type": "execute_result"
    }
   ],
   "source": [
    "# Add base map for city\n",
    "output_file(\"tile.html\")\n",
    "\n",
    "tile_provider = get_provider(CARTODBPOSITRON)\n",
    "\n",
    "# range bounds supplied in web mercator coordinates\n",
    "p = figure(x_range=[ways.total_bounds[0], ways.total_bounds[2]], y_range=[ways.total_bounds[1], ways.total_bounds[3]])\n",
    "p.add_tile(tile_provider)\n"
   ]
  },
  {
   "cell_type": "code",
   "execution_count": 64,
   "metadata": {},
   "outputs": [],
   "source": [
    "def add_gdf_to_map(gdf, p, color, width=2):\n",
    "    x_coords = []\n",
    "    y_coords = []\n",
    "\n",
    "    # display Cambridge roads\n",
    "    for index, road in gdf.iterrows():\n",
    "    \n",
    "        coords = [x for x in road['geometry'].coords]\n",
    "        x_coords.append([x[0] for x in coords])\n",
    "        y_coords.append([x[1] for x in coords])\n",
    "\n",
    "\n",
    "    # make a multilinestring from a set of linestrings\n",
    "    source = ColumnDataSource( dict(x=x_coords,y=y_coords) )    \n",
    "    l = p.multi_line( xs='x', ys='y', source=source, color=color, line_width=width)                    \n",
    "\n",
    "\n",
    "    return p\n",
    "\n",
    "\n",
    "# Add ways to map\n",
    "p = add_gdf_to_map(ways, p, 'red')\n",
    "# Add strava routes to map\n",
    "p = add_gdf_to_map(strava_gdf, p, 'green', width=5)\n",
    "show(p)"
   ]
  }
 ],
 "metadata": {
  "kernelspec": {
   "display_name": "Python 3",
   "language": "python",
   "name": "python3"
  },
  "language_info": {
   "codemirror_mode": {
    "name": "ipython",
    "version": 3
   },
   "file_extension": ".py",
   "mimetype": "text/x-python",
   "name": "python",
   "nbconvert_exporter": "python",
   "pygments_lexer": "ipython3",
   "version": "3.6.7"
  }
 },
 "nbformat": 4,
 "nbformat_minor": 2
}
