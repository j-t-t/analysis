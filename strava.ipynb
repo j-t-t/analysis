{
 "cells": [
  {
   "cell_type": "code",
   "execution_count": 1,
   "metadata": {},
   "outputs": [],
   "source": [
    "import fiona\n",
    "import rtree\n",
    "from pyproj import transformer\n",
    "import geopandas\n",
    "import pandas\n",
    "from shapely.geometry import LineString, MultiLineString\n",
    "\n",
    "from bokeh.plotting import figure, output_file, show\n",
    "from bokeh.tile_providers import CARTODBPOSITRON, get_provider\n",
    "from bokeh.models import ColumnDataSource"
   ]
  },
  {
   "cell_type": "code",
   "execution_count": 2,
   "metadata": {},
   "outputs": [],
   "source": [
    "# Read in a single strava file. Add functionality for multiple rides later\n",
    "strava = geopandas.read_file('/home/jenny/Downloads/Afternoon_Ride2.gpx', layer='tracks')\n",
    "strava = strava.to_crs(\"EPSG:3857\")"
   ]
  },
  {
   "cell_type": "code",
   "execution_count": 3,
   "metadata": {},
   "outputs": [],
   "source": [
    "# Turn the strava MultiLineString into short LineStrings\n",
    "for x in strava['geometry'].iloc[0]:\n",
    "    coords = [y for y in x.coords]\n",
    "    lines = []\n",
    "    for i in range(len(coords)-1):\n",
    "        lines.append(LineString([coords[i], coords[i+1]]))\n",
    "\n",
    "d = {'col1': range(len(lines)), 'geometry': lines}\n",
    "strava_gdf = geopandas.GeoDataFrame(d, crs=\"EPSG:3857\")\n"
   ]
  },
  {
   "cell_type": "code",
   "execution_count": 4,
   "metadata": {},
   "outputs": [],
   "source": [
    "# Read in the map for the city\n",
    "import osmnx as ox\n",
    "#ox.geocode_to_gdf\n",
    "\n",
    "G = ox.graph_from_place('Cambridge, MA USA', network_type='drive', simplify=True)\n",
    "\n",
    "# Turn into a gdf in epgs 3857\n",
    "nodes, ways = ox.utils_graph.graph_to_gdfs(G)\n",
    "ways = ways.to_crs(\"EPSG:3857\") \n"
   ]
  },
  {
   "cell_type": "code",
   "execution_count": 5,
   "metadata": {},
   "outputs": [
    {
     "data": {
      "text/html": [
       "<div style=\"display: table;\"><div style=\"display: table-row;\"><div style=\"display: table-cell;\"><b title=\"bokeh.models.renderers.TileRenderer\">TileRenderer</b>(</div><div style=\"display: table-cell;\">id&nbsp;=&nbsp;'1033', <span id=\"1036\" style=\"cursor: pointer;\">&hellip;)</span></div></div><div class=\"1035\" style=\"display: none;\"><div style=\"display: table-cell;\"></div><div style=\"display: table-cell;\">alpha&nbsp;=&nbsp;1.0,</div></div><div class=\"1035\" style=\"display: none;\"><div style=\"display: table-cell;\"></div><div style=\"display: table-cell;\">js_event_callbacks&nbsp;=&nbsp;{},</div></div><div class=\"1035\" style=\"display: none;\"><div style=\"display: table-cell;\"></div><div style=\"display: table-cell;\">js_property_callbacks&nbsp;=&nbsp;{},</div></div><div class=\"1035\" style=\"display: none;\"><div style=\"display: table-cell;\"></div><div style=\"display: table-cell;\">level&nbsp;=&nbsp;'glyph',</div></div><div class=\"1035\" style=\"display: none;\"><div style=\"display: table-cell;\"></div><div style=\"display: table-cell;\">name&nbsp;=&nbsp;None,</div></div><div class=\"1035\" style=\"display: none;\"><div style=\"display: table-cell;\"></div><div style=\"display: table-cell;\">render_parents&nbsp;=&nbsp;True,</div></div><div class=\"1035\" style=\"display: none;\"><div style=\"display: table-cell;\"></div><div style=\"display: table-cell;\">smoothing&nbsp;=&nbsp;True,</div></div><div class=\"1035\" style=\"display: none;\"><div style=\"display: table-cell;\"></div><div style=\"display: table-cell;\">subscribed_events&nbsp;=&nbsp;[],</div></div><div class=\"1035\" style=\"display: none;\"><div style=\"display: table-cell;\"></div><div style=\"display: table-cell;\">tags&nbsp;=&nbsp;[],</div></div><div class=\"1035\" style=\"display: none;\"><div style=\"display: table-cell;\"></div><div style=\"display: table-cell;\">tile_source&nbsp;=&nbsp;WMTSTileSource(id='1001', ...),</div></div><div class=\"1035\" style=\"display: none;\"><div style=\"display: table-cell;\"></div><div style=\"display: table-cell;\">visible&nbsp;=&nbsp;True,</div></div><div class=\"1035\" style=\"display: none;\"><div style=\"display: table-cell;\"></div><div style=\"display: table-cell;\">x_range_name&nbsp;=&nbsp;'default',</div></div><div class=\"1035\" style=\"display: none;\"><div style=\"display: table-cell;\"></div><div style=\"display: table-cell;\">y_range_name&nbsp;=&nbsp;'default')</div></div></div>\n",
       "<script>\n",
       "(function() {\n",
       "  var expanded = false;\n",
       "  var ellipsis = document.getElementById(\"1036\");\n",
       "  ellipsis.addEventListener(\"click\", function() {\n",
       "    var rows = document.getElementsByClassName(\"1035\");\n",
       "    for (var i = 0; i < rows.length; i++) {\n",
       "      var el = rows[i];\n",
       "      el.style.display = expanded ? \"none\" : \"table-row\";\n",
       "    }\n",
       "    ellipsis.innerHTML = expanded ? \"&hellip;)\" : \"&lsaquo;&lsaquo;&lsaquo;\";\n",
       "    expanded = !expanded;\n",
       "  });\n",
       "})();\n",
       "</script>\n"
      ],
      "text/plain": [
       "TileRenderer(id='1033', ...)"
      ]
     },
     "execution_count": 5,
     "metadata": {},
     "output_type": "execute_result"
    }
   ],
   "source": [
    "# Add base map for city\n",
    "output_file(\"tile.html\")\n",
    "\n",
    "tile_provider = get_provider(CARTODBPOSITRON)\n",
    "\n",
    "# range bounds supplied in web mercator coordinates\n",
    "p = figure(x_range=[ways.total_bounds[0], ways.total_bounds[2]], y_range=[ways.total_bounds[1], ways.total_bounds[3]])\n",
    "p.add_tile(tile_provider)\n"
   ]
  },
  {
   "cell_type": "code",
   "execution_count": 6,
   "metadata": {},
   "outputs": [],
   "source": [
    "def add_gdf_to_map(gdf, p, color, width=2):\n",
    "    x_coords = []\n",
    "    y_coords = []\n",
    "\n",
    "    # display Cambridge roads\n",
    "    for index, road in gdf.iterrows():\n",
    "        coords = [x for x in road['geometry'].coords]\n",
    "        x_coords.append([x[0] for x in coords])\n",
    "        y_coords.append([x[1] for x in coords])\n",
    "\n",
    "\n",
    "    # make a multilinestring from a set of linestrings\n",
    "    source = ColumnDataSource( dict(x=x_coords,y=y_coords) )    \n",
    "    l = p.multi_line( xs='x', ys='y', source=source, color=color, line_width=width)                    \n",
    "\n",
    "\n",
    "    return p\n",
    "\n",
    "def add_multilines_to_map(df, p, color, width=2):\n",
    "    x_coords = []\n",
    "    y_coords = []\n",
    "    for index, element in df.iterrows():\n",
    "        for line_string in element['geometry']:\n",
    "            coords = [x for x in line_string.coords]\n",
    "            x_coords.append([x[0] for x in coords])\n",
    "            y_coords.append([x[1] for x in coords])\n",
    "            \n",
    "    # make a multilinestring from a set of linestrings\n",
    "    source = ColumnDataSource( dict(x=x_coords,y=y_coords) )    \n",
    "    l = p.multi_line( xs='x', ys='y', source=source, color=color, line_width=width)                    \n",
    "    return p\n",
    "            #print(coords)\n",
    "# Add ways to map\n",
    "p = add_gdf_to_map(ways, p, 'red')\n",
    "# Add strava routes to map\n",
    "p = add_multilines_to_map(strava, p, 'green', width=5)\n",
    "show(p)"
   ]
  },
  {
   "cell_type": "code",
   "execution_count": 7,
   "metadata": {},
   "outputs": [],
   "source": [
    "# Now make a new DataFrame with a buffer around the strava segments\n",
    "#buffered = strava_gdf.buffer(20)\n",
    "#buffered.head()\n",
    "\n",
    "#coords = [x for x in buffered.iloc[21].exterior.coords]\n",
    "\n",
    "#p.patch([x[0] for x in coords], [x[1] for x in coords], alpha=0.5, line_width=5, color='blue')\n",
    "#p.patches([[x[0] for x in coords], [x[1] for x in coords]])\n",
    "#buffered.head()\n",
    "#for index, buffered_segment in buffered.iterrows():\n",
    "    \n",
    "#p.patches([[1, 3, 2], [3, 4, 6, 6]], [[2, 1, 4], [4, 7, 8, 5]],\n",
    "#          color=[\"firebrick\", \"navy\"], alpha=[0.8, 0.3], line_width=2)\n",
    "#show(p)"
   ]
  },
  {
   "cell_type": "code",
   "execution_count": 30,
   "metadata": {},
   "outputs": [],
   "source": [
    "#buffered2 = strava.buffer(20)\n",
    "#foo = [x for x in buffered2.iloc[0].exterior.coords]\n",
    "#foo[0:100]\n",
    "\n",
    "#coords = [x for x in buffered2.iloc[0].exterior.coords]\n",
    "\n",
    "#p.patch([x[0] for x in coords], [x[1] for x in coords], alpha=0.5, line_width=5, color='orange')\n",
    "#show(p)"
   ]
  },
  {
   "cell_type": "code",
   "execution_count": 83,
   "metadata": {},
   "outputs": [
    {
     "name": "stdout",
     "output_type": "stream",
     "text": [
      "98\n",
      "235\n"
     ]
    },
    {
     "name": "stderr",
     "output_type": "stream",
     "text": [
      "/home/jenny/anaconda3/envs/crash-model/lib/python3.6/site-packages/geopandas/base.py:39: UserWarning: The indices of the two GeoSeries are different.\n",
      "  warn(\"The indices of the two GeoSeries are different.\")\n"
     ]
    },
    {
     "data": {
      "text/html": [
       "<div>\n",
       "<style scoped>\n",
       "    .dataframe tbody tr th:only-of-type {\n",
       "        vertical-align: middle;\n",
       "    }\n",
       "\n",
       "    .dataframe tbody tr th {\n",
       "        vertical-align: top;\n",
       "    }\n",
       "\n",
       "    .dataframe thead th {\n",
       "        text-align: right;\n",
       "    }\n",
       "</style>\n",
       "<table border=\"1\" class=\"dataframe\">\n",
       "  <thead>\n",
       "    <tr style=\"text-align: right;\">\n",
       "      <th></th>\n",
       "      <th>osmid</th>\n",
       "      <th>highway</th>\n",
       "      <th>oneway</th>\n",
       "      <th>length</th>\n",
       "      <th>geometry</th>\n",
       "      <th>lanes</th>\n",
       "      <th>name</th>\n",
       "      <th>maxspeed</th>\n",
       "      <th>width</th>\n",
       "      <th>ref</th>\n",
       "      <th>bridge</th>\n",
       "      <th>tunnel</th>\n",
       "      <th>access</th>\n",
       "      <th>junction</th>\n",
       "      <th>u</th>\n",
       "      <th>v</th>\n",
       "      <th>key</th>\n",
       "      <th>index_right</th>\n",
       "      <th>df1</th>\n",
       "    </tr>\n",
       "  </thead>\n",
       "  <tbody>\n",
       "  </tbody>\n",
       "</table>\n",
       "</div>"
      ],
      "text/plain": [
       "Empty GeoDataFrame\n",
       "Columns: [osmid, highway, oneway, length, geometry, lanes, name, maxspeed, width, ref, bridge, tunnel, access, junction, u, v, key, index_right, df1]\n",
       "Index: []"
      ]
     },
     "execution_count": 83,
     "metadata": {},
     "output_type": "execute_result"
    }
   ],
   "source": [
    "lines = strava.iloc[0]['geometry']\n",
    "\n",
    "# \n",
    "buffered = lines.buffer(20)\n",
    "buffered_df = geopandas.GeoDataFrame({'geometry': buffered, 'df1':[1]}, crs=\"EPSG:3857\")\n",
    "\n",
    "\n",
    "intersecting = geopandas.sjoin(ways, buffered_df, how='inner', op='intersects', lsuffix='left', rsuffix='right')\n",
    "count = 0\n",
    "for i, way in intersecting.iterrows():\n",
    "    if buffered_df['geometry'].contains(way['geometry']).any():\n",
    "        count+=1\n",
    "print(count)\n",
    "print(len(intersecting))\n",
    "\n",
    "#intersecting.loc[buffered_df.contains(intersecting['geometry'])]\n",
    "\n",
    "#gdf = geopandas.GeoDataFrame(df, geometry=df.apply(lambda row: Point(row.lon,row.lat), axis=1)\n",
    "\n",
    "                             \n",
    "                             \n",
    "#buffered.intersects(ways)\n",
    "\n",
    "\n",
    "#coords = [x for x in lines[0].coords]\n",
    "#len(coords)\n",
    "\n",
    "#LineString(coords[0:500]).buffer(20)"
   ]
  }
 ],
 "metadata": {
  "kernelspec": {
   "display_name": "Python 3",
   "language": "python",
   "name": "python3"
  },
  "language_info": {
   "codemirror_mode": {
    "name": "ipython",
    "version": 3
   },
   "file_extension": ".py",
   "mimetype": "text/x-python",
   "name": "python",
   "nbconvert_exporter": "python",
   "pygments_lexer": "ipython3",
   "version": "3.6.7"
  }
 },
 "nbformat": 4,
 "nbformat_minor": 2
}
